{
  "nbformat": 4,
  "nbformat_minor": 0,
  "metadata": {
    "colab": {
      "provenance": [],
      "include_colab_link": true
    },
    "kernelspec": {
      "name": "python3",
      "display_name": "Python 3"
    },
    "language_info": {
      "name": "python"
    }
  },
  "cells": [
    {
      "cell_type": "markdown",
      "metadata": {
        "id": "view-in-github",
        "colab_type": "text"
      },
      "source": [
        "<a href=\"https://colab.research.google.com/github/BROKENTRUTH/edtech__econometric_model.py/blob/main/Untitled0.ipynb\" target=\"_parent\"><img src=\"https://colab.research.google.com/assets/colab-badge.svg\" alt=\"Open In Colab\"/></a>"
      ]
    },
    {
      "cell_type": "code",
      "execution_count": null,
      "metadata": {
        "id": "MrSAM83W3FbT"
      },
      "outputs": [],
      "source": [
        "!pip install PyPDF2 spacy pandas reportlab\n",
        "!python -m spacy download en_core_web_sm"
      ]
    },
    {
      "cell_type": "code",
      "source": [
        "import PyPDF2\n",
        "import spacy\n",
        "import pandas as pd\n",
        "from reportlab.lib.pagesizes import letter\n",
        "from reportlab.pdfgen import canvas"
      ],
      "metadata": {
        "id": "WJZ-Sx0T3wpi"
      },
      "execution_count": null,
      "outputs": []
    },
    {
      "cell_type": "code",
      "source": [
        "# Download the technical specification PDF from the provided link\n",
        "!wget -O technical_specification.pdf \"https://drive.google.com/file/d/1C0fIvfSzGeHjxi4OmfFGFAEio76O0-rx/view?usp=drivesdk\""
      ],
      "metadata": {
        "id": "pXNPa34d4Y0K"
      },
      "execution_count": null,
      "outputs": []
    },
    {
      "cell_type": "code",
      "metadata": {
        "id": "cd80222a"
      },
      "source": [
        "!pip install PyPDF2 spacy pandas reportlab\n",
        "!python -m spacy download en_core_web_sm"
      ],
      "execution_count": null,
      "outputs": []
    },
    {
      "cell_type": "code",
      "metadata": {
        "id": "d50a4ca0"
      },
      "source": [
        "!wget -O technical_specification.pdf https://drive.google.com/file/d/1C0fIvfSzGeHjxi4OmfFGFAEio76O0-rx/view?usp=sharing\n",
        "!file technical_specification.pdf"
      ],
      "execution_count": null,
      "outputs": []
    },
    {
      "cell_type": "code",
      "metadata": {
        "id": "d25f3cf7"
      },
      "source": [
        "# Download the technical specification PDF using gdown\n",
        "!gdown --id 1C0fIvfSzGeHjxi4OmfFGFAEio76O0-rx -O technical_specification.pdf"
      ],
      "execution_count": null,
      "outputs": []
    },
    {
      "cell_type": "code",
      "metadata": {
        "id": "2b9832cf"
      },
      "source": [
        "# Step 2: Extract text from the PDF\n",
        "text = \"\"\n",
        "try:\n",
        "    with open('technical_specification.pdf', 'rb') as file:\n",
        "        reader = PyPDF2.PdfReader(file)\n",
        "        for page_num in range(len(reader.pages)):\n",
        "            page = reader.pages[page_num]\n",
        "            text += page.extract_text()\n",
        "except FileNotFoundError:\n",
        "    print(\"Error: technical_specification.pdf not found. Please ensure the file is downloaded.\")\n",
        "except Exception as e:\n",
        "    print(f\"An error occurred while reading the PDF: {e}\")"
      ],
      "execution_count": null,
      "outputs": []
    },
    {
      "cell_type": "code",
      "source": [
        "# Step 3: Process the text using NLP\n",
        "# Load the spaCy English model and process the extracted text\n",
        "nlp = spacy.load('en_core_web_sm')\n",
        "doc = nlp(text)\n"
      ],
      "metadata": {
        "id": "GEeSLBmSWTRB"
      },
      "execution_count": null,
      "outputs": []
    },
    {
      "cell_type": "code",
      "source": [
        "# Identify sentences containing material-related information\n",
        "materials = []\n",
        "for sent in doc.sents:\n",
        "    # Add keywords relevant to your document (e.g., 'cement', 'steel', 'test')\n",
        "    if 'material' in sent.text.lower() or 'cement' in sent.text.lower():\n",
        "        materials.append(sent.text.strip())\n"
      ],
      "metadata": {
        "id": "mPT2l2QHW0L7"
      },
      "execution_count": null,
      "outputs": []
    },
    {
      "cell_type": "code",
      "source": [
        "# Step 4: Extract specific information\n",
        "# Placeholder logic to extract details (customize based on document structure)\n",
        "extracted_data = []\n",
        "for i, material in enumerate(materials, 1):\n",
        "    test = \"No Information Available\"  # Replace with actual test extraction\n",
        "    code = \"No Information Available\"  # Replace with code/standard extraction\n",
        "    definition = \"No Information Available\"  # Replace with definition extraction\n",
        "    other_info = \"No Information Available\"  # Replace with additional info\n",
        "    extracted_data.append([i, material, test, code, definition, other_info])\n"
      ],
      "metadata": {
        "id": "cfQ9l5DeW3ok"
      },
      "execution_count": null,
      "outputs": []
    },
    {
      "cell_type": "code",
      "source": [
        "# Step 5: Generate the output table\n",
        "# Define column names as per requirements\n",
        "columns = ['Sl. No.', 'Material Name', 'Test Name/Reference Code/Standard',\n",
        "           'Specific Material Definition', 'Any Other Relevant Information', 'Extra Column'] # Added 'Extra Column'\n",
        "df = pd.DataFrame(extracted_data, columns=columns)"
      ],
      "metadata": {
        "id": "i-jT6CtuW6sF"
      },
      "execution_count": null,
      "outputs": []
    },
    {
      "cell_type": "code",
      "source": [
        "# Save the table as a PDF file\n",
        "c = canvas.Canvas('output_table.pdf', pagesize=letter)\n",
        "c.drawString(100, 750, \"Extracted Information Table\")  # Title\n",
        "for index, row in df.iterrows():\n",
        "    y = 730 - (index * 20)  # Adjust vertical position for each row\n",
        "    c.drawString(100, y, f\"{row['Sl. No.']}: {row['Material Name']} - {row['Test Name/Reference Code/Standard']}\")\n",
        "c.save()\n"
      ],
      "metadata": {
        "id": "QJqTxv2hXQC1"
      },
      "execution_count": null,
      "outputs": []
    },
    {
      "cell_type": "code",
      "metadata": {
        "id": "be2c454d"
      },
      "source": [
        "display(df.head())"
      ],
      "execution_count": null,
      "outputs": []
    },
    {
      "cell_type": "code",
      "metadata": {
        "id": "8bab93ea"
      },
      "source": [
        "!ls -lh technical_specification.pdf\n",
        "!file technical_specification.pdf"
      ],
      "execution_count": null,
      "outputs": []
    },
    {
      "cell_type": "code",
      "metadata": {
        "id": "12811ad1"
      },
      "source": [
        "# Download the technical specification PDF using gdown\n",
        "!gdown --id 1C0fIvfSzGeHjxi4OmfFGFAEio76O0-rx -O technical_specification.pdf\n",
        "!file technical_specification.pdf"
      ],
      "execution_count": null,
      "outputs": []
    }
  ]
}